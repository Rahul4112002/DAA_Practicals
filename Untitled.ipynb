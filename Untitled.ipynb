{
 "cells": [
  {
   "cell_type": "markdown",
   "id": "52994c43",
   "metadata": {},
   "source": [
    "# Binary Search"
   ]
  },
  {
   "cell_type": "code",
   "execution_count": 4,
   "id": "5aa35bb1",
   "metadata": {},
   "outputs": [
    {
     "name": "stdout",
     "output_type": "stream",
     "text": [
      "[2, 3, 6, 7, 8, 11, 13, 17, 19, 21]\n",
      "13\n",
      " Number is present at index 6\n"
     ]
    }
   ],
   "source": [
    "def binary_search(arr, x):\n",
    "    low = 0\n",
    "    high = len(arr) - 1\n",
    "    mid = 0\n",
    "    while low <= high:\n",
    "        mid = (high + low) // 2\n",
    "        if arr[mid] < x:\n",
    "            low = mid + 1\n",
    "        elif arr[mid] > x:\n",
    "            high = mid - 1\n",
    "        else:\n",
    "            return mid\n",
    "    return -1\n",
    "arr = [2,3,6,7,8,11,13,17,19,21 ]\n",
    "x = 13\n",
    "result = binary_search(arr, x)\n",
    "\n",
    "print(arr)\n",
    "print(x)\n",
    "print(f' Number is present at index {result}')"
   ]
  },
  {
   "cell_type": "markdown",
   "id": "3da4e5e7",
   "metadata": {},
   "source": [
    "# Quick Sort"
   ]
  },
  {
   "cell_type": "code",
   "execution_count": 6,
   "id": "da7c4aff",
   "metadata": {},
   "outputs": [
    {
     "name": "stdout",
     "output_type": "stream",
     "text": [
      "[10, 27, 41, 42, 91, 92]\n"
     ]
    }
   ],
   "source": [
    "def quickSort(a):\n",
    "    if len(a) <= 1:\n",
    "        return a\n",
    "    else:\n",
    "        pivot = a.pop()\n",
    "        greater = []\n",
    "        lower = []\n",
    "        for i in a:\n",
    "            if i > pivot:\n",
    "                greater.append(i)\n",
    "            else:\n",
    "                    lower.append(i)\n",
    "    return quickSort(lower) + [pivot] + quickSort(greater)\n",
    "l = [42,10,92,41,91,27]\n",
    "print(quickSort(l))"
   ]
  },
  {
   "cell_type": "markdown",
   "id": "a0d201ad",
   "metadata": {},
   "source": [
    "# Dijkstra’s Algorithm"
   ]
  },
  {
   "cell_type": "code",
   "execution_count": 7,
   "id": "10d81d10",
   "metadata": {},
   "outputs": [
    {
     "name": "stdout",
     "output_type": "stream",
     "text": [
      "Vertex \t Distance from Source\n",
      "0 \t\t 0\n",
      "1 \t\t 4\n",
      "2 \t\t 12\n",
      "3 \t\t 19\n",
      "4 \t\t 21\n",
      "5 \t\t 11\n",
      "6 \t\t 9\n",
      "7 \t\t 8\n",
      "8 \t\t 14\n"
     ]
    }
   ],
   "source": [
    "class Graph():\n",
    "    def __init__(self, vertices):\n",
    "        self.V = vertices\n",
    "        self.graph = [[0 for column in range(vertices)]\n",
    "                    for row in range(vertices)]\n",
    "\n",
    "    def printSolution(self, dist):\n",
    "        print(\"Vertex \\t Distance from Source\")\n",
    "        for node in range(self.V):\n",
    "            print(node, \"\\t\\t\", dist[node])\n",
    "\n",
    "    def minDistance(self, dist, sptSet):\n",
    "        min = 1e7\n",
    "        for v in range(self.V):\n",
    "            if dist[v] < min and sptSet[v] == False:\n",
    "                min = dist[v]\n",
    "                min_index = v\n",
    "        return min_index\n",
    "    def dijkstra(self, src):\n",
    "        dist = [1e7] * self.V\n",
    "        dist[src] = 0\n",
    "        sptSet = [False] * self.V\n",
    "        for cout in range(self.V):\n",
    "            u = self.minDistance(dist, sptSet)\n",
    "            sptSet[u] = True\n",
    "            for v in range(self.V):\n",
    "                if (self.graph[u][v] > 0 and\n",
    "                sptSet[v] == False and\n",
    "                dist[v] > dist[u] + self.graph[u][v]):\n",
    "                    dist[v] = dist[u] + self.graph[u][v]\n",
    "        self.printSolution(dist)\n",
    "\n",
    "# Driver program\n",
    "g = Graph(9)\n",
    "g.graph = [[0, 4, 0, 0, 0, 0, 0, 8, 0],\n",
    "\t\t[4, 0, 8, 0, 0, 0, 0, 11, 0],\n",
    "\t\t[0, 8, 0, 7, 0, 4, 0, 0, 2],\n",
    "\t\t[0, 0, 7, 0, 9, 14, 0, 0, 0],\n",
    "\t\t[0, 0, 0, 9, 0, 10, 0, 0, 0],\n",
    "\t\t[0, 0, 4, 14, 10, 0, 2, 0, 0],\n",
    "\t\t[0, 0, 0, 0, 0, 2, 0, 1, 6],\n",
    "\t\t[8, 11, 0, 0, 0, 0, 1, 0, 7],\n",
    "\t\t[0, 0, 2, 0, 0, 0, 6, 7, 0]\n",
    "\t\t]\n",
    "\n",
    "g.dijkstra(0)\n",
    "\n",
    "\n"
   ]
  },
  {
   "cell_type": "markdown",
   "id": "a045d4ab",
   "metadata": {},
   "source": [
    "# Prim’s Algorithm"
   ]
  },
  {
   "cell_type": "code",
   "execution_count": 8,
   "id": "60dd27f9",
   "metadata": {},
   "outputs": [
    {
     "name": "stdout",
     "output_type": "stream",
     "text": [
      "Edge : Weight\n",
      "\n",
      "0-1:4\n",
      "0-7:8\n",
      "7-6:1\n",
      "6-5:2\n",
      "5-2:4\n",
      "2-8:2\n",
      "2-3:7\n",
      "3-4:9\n"
     ]
    }
   ],
   "source": [
    "# Prim's Algorithm in Python\n",
    "\n",
    "INF = 9999999\n",
    "# number of vertices in graph\n",
    "N = 9\n",
    "#creating graph by adjacency matrix method\n",
    "G = [[0, 4, 0, 0, 0, 0, 0, 8, 0],\n",
    "\t\t[4, 0, 8, 0, 0, 0, 0, 11, 0],\n",
    "\t\t[0, 8, 0, 7, 0, 4, 0, 0, 2],\n",
    "\t\t[0, 0, 7, 0, 9, 14, 0, 0, 0],\n",
    "\t\t[0, 0, 0, 9, 0, 10, 0, 0, 0],\n",
    "\t\t[0, 0, 4, 14, 10, 0, 2, 0, 0],\n",
    "\t\t[0, 0, 0, 0, 0, 2, 0, 1, 6],\n",
    "\t\t[8, 11, 0, 0, 0, 0, 1, 0, 7],\n",
    "\t\t[0, 0, 2, 0, 0, 0, 6, 7, 0]\n",
    "\t\t]\n",
    "\n",
    "selected_node = [0, 0, 0, 0, 0,0,0,0,0]\n",
    "\n",
    "no_edge = 0\n",
    "\n",
    "selected_node[0] = True\n",
    "\n",
    "# printing for edge and weight\n",
    "print(\"Edge : Weight\\n\")\n",
    "while (no_edge < N - 1):\n",
    "    \n",
    "    minimum = INF\n",
    "    a = 0\n",
    "    b = 0\n",
    "    for m in range(N):\n",
    "        if selected_node[m]:\n",
    "            for n in range(N):\n",
    "                if ((not selected_node[n]) and G[m][n]):  \n",
    "                    # not in selected and there is an edge\n",
    "                    if minimum > G[m][n]:\n",
    "                        minimum = G[m][n]\n",
    "                        a = m\n",
    "                        b = n\n",
    "    print(str(a) + \"-\" + str(b) + \":\" + str(G[a][b]))\n",
    "    selected_node[b] = True\n",
    "    no_edge += 1"
   ]
  },
  {
   "cell_type": "markdown",
   "id": "d53f3f5b",
   "metadata": {},
   "source": [
    "# Bellman ford"
   ]
  },
  {
   "cell_type": "code",
   "execution_count": null,
   "id": "5b101c47",
   "metadata": {},
   "outputs": [],
   "source": [
    "class Graph:\n",
    "\n",
    "\n",
    "\n",
    "    def __init__(self, vertices):\n",
    "\n",
    "        self.M = vertices   # Total number of vertices in the graph\n",
    "\n",
    "        self.graph = []     # Array of edges\n",
    "\n",
    "\n",
    "\n",
    "    # Add edges\n",
    "\n",
    "    def add_edge(self, a, b, c):\n",
    "\n",
    "        self.graph.append([a, b, c])\n",
    "\n",
    "\n",
    "\n",
    "    # Print the solution\n",
    "\n",
    "    def print_solution(self, distance):\n",
    "\n",
    "        print(\"Vertex Distance from Source\")\n",
    "\n",
    "        for k in range(self.M):\n",
    "\n",
    "            print(\"{0}\\t\\t{1}\".format(k, distance[k]))\n",
    "\n",
    "\n",
    "\n",
    "    def bellman_ford(self, src):\n",
    "\n",
    "\n",
    "\n",
    "        distance = [float(\"Inf\")] * self.M\n",
    "\n",
    "        distance[src] = 0\n",
    "\n",
    "\n",
    "\n",
    "        for _ in range(self.M - 1):\n",
    "\n",
    "            for a, b, c in self.graph:\n",
    "\n",
    "                if distance[a] != float(\"Inf\") and distance[a] + c < distance[b]:\n",
    "\n",
    "                    distance[b] = distance[a] + c\n",
    "\n",
    "\n",
    "\n",
    "        for a, b, c in self.graph:\n",
    "\n",
    "            if distance[a] != float(\"Inf\") and distance[a] + c < distance[b]:\n",
    "\n",
    "                print(\"Graph contains negative weight cycle\")\n",
    "\n",
    "                return\n",
    "\n",
    "\n",
    "\n",
    "        self.print_solution(distance)\n",
    "\n",
    "\n",
    "\n",
    "g = Graph(5)\n",
    "\n",
    "g.add_edge(0, 1, 2)\n",
    "\n",
    "g.add_edge(0, 2, 4)\n",
    "\n",
    "g.add_edge(1, 3, 2)\n",
    "\n",
    "g.add_edge(2, 4, 3)\n",
    "\n",
    "g.add_edge(2, 3, 4)\n",
    "\n",
    "g.add_edge(4, 3, -5)\n",
    "\n",
    "\n",
    "\n",
    "g.bellman_ford(0)\n"
   ]
  }
 ],
 "metadata": {
  "kernelspec": {
   "display_name": "Python 3 (ipykernel)",
   "language": "python",
   "name": "python3"
  },
  "language_info": {
   "codemirror_mode": {
    "name": "ipython",
    "version": 3
   },
   "file_extension": ".py",
   "mimetype": "text/x-python",
   "name": "python",
   "nbconvert_exporter": "python",
   "pygments_lexer": "ipython3",
   "version": "3.10.5"
  }
 },
 "nbformat": 4,
 "nbformat_minor": 5
}
