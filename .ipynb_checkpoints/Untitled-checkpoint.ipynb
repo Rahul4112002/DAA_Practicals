{
 "cells": [
  {
   "cell_type": "markdown",
   "id": "52994c43",
   "metadata": {},
   "source": [
    "# Binary Search"
   ]
  },
  {
   "cell_type": "code",
   "execution_count": 4,
   "id": "5aa35bb1",
   "metadata": {},
   "outputs": [
    {
     "name": "stdout",
     "output_type": "stream",
     "text": [
      "[2, 3, 6, 7, 8, 11, 13, 17, 19, 21]\n",
      "13\n",
      " Number is present at index 6\n"
     ]
    }
   ],
   "source": [
    "def binary_search(arr, x):\n",
    "    low = 0\n",
    "    high = len(arr) - 1\n",
    "    mid = 0\n",
    "    while low <= high:\n",
    "        mid = (high + low) // 2\n",
    "        if arr[mid] < x:\n",
    "            low = mid + 1\n",
    "        elif arr[mid] > x:\n",
    "            high = mid - 1\n",
    "        else:\n",
    "            return mid\n",
    "    return -1\n",
    "arr = [2,3,6,7,8,11,13,17,19,21 ]\n",
    "x = 13\n",
    "result = binary_search(arr, x)\n",
    "\n",
    "print(arr)\n",
    "print(x)\n",
    "print(f' Number is present at index {result}')"
   ]
  },
  {
   "cell_type": "markdown",
   "id": "3da4e5e7",
   "metadata": {},
   "source": [
    "# Quick Sort"
   ]
  },
  {
   "cell_type": "code",
   "execution_count": 6,
   "id": "da7c4aff",
   "metadata": {},
   "outputs": [
    {
     "name": "stdout",
     "output_type": "stream",
     "text": [
      "[10, 27, 41, 42, 91, 92]\n"
     ]
    }
   ],
   "source": [
    "def quickSort(a):\n",
    "    if len(a) <= 1:\n",
    "        return a\n",
    "    else:\n",
    "        pivot = a.pop()\n",
    "        greater = []\n",
    "        lower = []\n",
    "        for i in a:\n",
    "            if i > pivot:\n",
    "                greater.append(i)\n",
    "            else:\n",
    "                    lower.append(i)\n",
    "    return quickSort(lower) + [pivot] + quickSort(greater)\n",
    "l = [42,10,92,41,91,27]\n",
    "print(quickSort(l))"
   ]
  },
  {
   "cell_type": "markdown",
   "id": "a0d201ad",
   "metadata": {},
   "source": [
    "# Dijkstra’s Algorithm"
   ]
  },
  {
   "cell_type": "code",
   "execution_count": 7,
   "id": "10d81d10",
   "metadata": {},
   "outputs": [
    {
     "name": "stdout",
     "output_type": "stream",
     "text": [
      "Vertex \t Distance from Source\n",
      "0 \t\t 0\n",
      "1 \t\t 4\n",
      "2 \t\t 12\n",
      "3 \t\t 19\n",
      "4 \t\t 21\n",
      "5 \t\t 11\n",
      "6 \t\t 9\n",
      "7 \t\t 8\n",
      "8 \t\t 14\n"
     ]
    }
   ],
   "source": [
    "class Graph():\n",
    "    def __init__(self, vertices):\n",
    "        self.V = vertices\n",
    "        self.graph = [[0 for column in range(vertices)]\n",
    "                    for row in range(vertices)]\n",
    "\n",
    "    def printSolution(self, dist):\n",
    "        print(\"Vertex \\t Distance from Source\")\n",
    "        for node in range(self.V):\n",
    "            print(node, \"\\t\\t\", dist[node])\n",
    "\n",
    "    def minDistance(self, dist, sptSet):\n",
    "        min = 1e7\n",
    "        for v in range(self.V):\n",
    "            if dist[v] < min and sptSet[v] == False:\n",
    "                min = dist[v]\n",
    "                min_index = v\n",
    "        return min_index\n",
    "    def dijkstra(self, src):\n",
    "        dist = [1e7] * self.V\n",
    "        dist[src] = 0\n",
    "        sptSet = [False] * self.V\n",
    "        for cout in range(self.V):\n",
    "            u = self.minDistance(dist, sptSet)\n",
    "            sptSet[u] = True\n",
    "            for v in range(self.V):\n",
    "                if (self.graph[u][v] > 0 and\n",
    "                sptSet[v] == False and\n",
    "                dist[v] > dist[u] + self.graph[u][v]):\n",
    "                    dist[v] = dist[u] + self.graph[u][v]\n",
    "        self.printSolution(dist)\n",
    "\n",
    "# Driver program\n",
    "g = Graph(9)\n",
    "g.graph = [[0, 4, 0, 0, 0, 0, 0, 8, 0],\n",
    "\t\t[4, 0, 8, 0, 0, 0, 0, 11, 0],\n",
    "\t\t[0, 8, 0, 7, 0, 4, 0, 0, 2],\n",
    "\t\t[0, 0, 7, 0, 9, 14, 0, 0, 0],\n",
    "\t\t[0, 0, 0, 9, 0, 10, 0, 0, 0],\n",
    "\t\t[0, 0, 4, 14, 10, 0, 2, 0, 0],\n",
    "\t\t[0, 0, 0, 0, 0, 2, 0, 1, 6],\n",
    "\t\t[8, 11, 0, 0, 0, 0, 1, 0, 7],\n",
    "\t\t[0, 0, 2, 0, 0, 0, 6, 7, 0]\n",
    "\t\t]\n",
    "\n",
    "g.dijkstra(0)\n",
    "\n",
    "\n"
   ]
  },
  {
   "cell_type": "markdown",
   "id": "a045d4ab",
   "metadata": {},
   "source": [
    "# Prim’s Algorithm"
   ]
  },
  {
   "cell_type": "code",
   "execution_count": 8,
   "id": "60dd27f9",
   "metadata": {},
   "outputs": [
    {
     "name": "stdout",
     "output_type": "stream",
     "text": [
      "Edge : Weight\n",
      "\n",
      "0-1:4\n",
      "0-7:8\n",
      "7-6:1\n",
      "6-5:2\n",
      "5-2:4\n",
      "2-8:2\n",
      "2-3:7\n",
      "3-4:9\n"
     ]
    }
   ],
   "source": [
    "# Prim's Algorithm in Python\n",
    "INF = 9999999\n",
    "# number of vertices in graph\n",
    "N = 9\n",
    "#creating graph by adjacency matrix method\n",
    "G = [[0, 4, 0, 0, 0, 0, 0, 8, 0],\n",
    "\t\t[4, 0, 8, 0, 0, 0, 0, 11, 0],\n",
    "\t\t[0, 8, 0, 7, 0, 4, 0, 0, 2],\n",
    "\t\t[0, 0, 7, 0, 9, 14, 0, 0, 0],\n",
    "\t\t[0, 0, 0, 9, 0, 10, 0, 0, 0],\n",
    "\t\t[0, 0, 4, 14, 10, 0, 2, 0, 0],\n",
    "\t\t[0, 0, 0, 0, 0, 2, 0, 1, 6],\n",
    "\t\t[8, 11, 0, 0, 0, 0, 1, 0, 7],\n",
    "\t\t[0, 0, 2, 0, 0, 0, 6, 7, 0]\n",
    "\t\t]\n",
    "selected_node = [0, 0, 0, 0, 0,0,0,0,0]\n",
    "no_edge = 0\n",
    "selected_node[0] = True\n",
    "# printing for edge and weight\n",
    "print(\"Edge : Weight\\n\")\n",
    "while (no_edge < N - 1):   \n",
    "    minimum = INF\n",
    "    a = 0\n",
    "    b = 0\n",
    "    for m in range(N):\n",
    "        if selected_node[m]:\n",
    "            for n in range(N):\n",
    "                if ((not selected_node[n]) and G[m][n]):  \n",
    "                    # not in selected and there is an edge\n",
    "                    if minimum > G[m][n]:\n",
    "                        minimum = G[m][n]\n",
    "                        a = m\n",
    "                        b = n\n",
    "    print(str(a) + \"-\" + str(b) + \":\" + str(G[a][b]))\n",
    "    selected_node[b] = True\n",
    "    no_edge += 1"
   ]
  },
  {
   "cell_type": "markdown",
   "id": "d53f3f5b",
   "metadata": {},
   "source": [
    "# Bellman ford"
   ]
  },
  {
   "cell_type": "code",
   "execution_count": 1,
   "id": "5b101c47",
   "metadata": {},
   "outputs": [
    {
     "name": "stdout",
     "output_type": "stream",
     "text": [
      "Vertex Distance from Source\n",
      "0\t\t0\n",
      "1\t\t2\n",
      "2\t\t4\n",
      "3\t\t2\n",
      "4\t\t7\n"
     ]
    }
   ],
   "source": [
    "class Graph:\n",
    "    def __init__(self, vertices):\n",
    "        self.M = vertices   # Total number of vertices in the graph\n",
    "        self.graph = []     # Array of edges\n",
    "    # Add edges\n",
    "    def add_edge(self, a, b, c):\n",
    "        self.graph.append([a, b, c])\n",
    "    # Print the solution\n",
    "    def print_solution(self, distance):\n",
    "        print(\"Vertex Distance from Source\")\n",
    "        for k in range(self.M):\n",
    "            print(\"{0}\\t\\t{1}\".format(k, distance[k]))\n",
    "    def bellman_ford(self, src):\n",
    "        distance = [float(\"Inf\")] * self.M\n",
    "        distance[src] = 0\n",
    "        for _ in range(self.M - 1):\n",
    "            for a, b, c in self.graph:\n",
    "                if distance[a] != float(\"Inf\") and distance[a] + c < distance[b]:\n",
    "                    distance[b] = distance[a] + c\n",
    "        for a, b, c in self.graph:\n",
    "            if distance[a] != float(\"Inf\") and distance[a] + c < distance[b]:\n",
    "                print(\"Graph contains negative weight cycle\")\n",
    "                return\n",
    "        self.print_solution(distance)\n",
    "g = Graph(5)\n",
    "g.add_edge(0, 1, 2)\n",
    "g.add_edge(0, 2, 4)\n",
    "g.add_edge(1, 3, 2)\n",
    "g.add_edge(2, 4, 3)\n",
    "g.add_edge(2, 3, 4)\n",
    "g.add_edge(4, 3, -5)\n",
    "g.bellman_ford(0)"
   ]
  },
  {
   "cell_type": "markdown",
   "id": "8d94f329",
   "metadata": {},
   "source": [
    "# 4 - Queen Problem"
   ]
  },
  {
   "cell_type": "code",
   "execution_count": 2,
   "id": "a19d7886",
   "metadata": {},
   "outputs": [
    {
     "name": "stdout",
     "output_type": "stream",
     "text": [
      "0 0 1 0 \n",
      "1 0 0 0 \n",
      "0 0 0 1 \n",
      "0 1 0 0 \n"
     ]
    },
    {
     "data": {
      "text/plain": [
       "True"
      ]
     },
     "execution_count": 2,
     "metadata": {},
     "output_type": "execute_result"
    }
   ],
   "source": [
    "global N\n",
    "N = 4\n",
    "def printSolution(board):\n",
    "\tfor i in range(N):\n",
    "\t\tfor j in range(N):\n",
    "\t\t\tprint (board[i][j],end=' ')\n",
    "\t\tprint()\n",
    "        \n",
    "def isSafe(board, row, col):\n",
    "\t# Check this row on left side\n",
    "\tfor i in range(col):\n",
    "\t\tif board[row][i] == 1:\n",
    "\t\t\treturn False\n",
    "\t# Check upper diagonal on left side\n",
    "\tfor i, j in zip(range(row, -1, -1), range(col, -1, -1)):\n",
    "\t\tif board[i][j] == 1:\n",
    "\t\t\treturn False\n",
    "\t# Check lower diagonal on left side\n",
    "\tfor i, j in zip(range(row, N, 1), range(col, -1, -1)):\n",
    "\t\tif board[i][j] == 1:\n",
    "\t\t\treturn False\n",
    "\treturn True\n",
    "\n",
    "def solveNQUtil(board, col):\n",
    "\t# base case: If all queens are placed\n",
    "\t# then return true\n",
    "\tif col >= N:\n",
    "\t\treturn True\n",
    "\tfor i in range(N):\n",
    "\t\tif isSafe(board, i, col):\n",
    "\t\t\t# Place this queen in board[i][col]\n",
    "\t\t\tboard[i][col] = 1\n",
    "\t\t\t# recur to place rest of the queens\n",
    "\t\t\tif solveNQUtil(board, col + 1) == True:\n",
    "\t\t\t\treturn True\n",
    "\t\t\tboard[i][col] = 0\n",
    "\treturn False\n",
    "\n",
    "def solveNQ():\n",
    "\tboard = [ [0, 0, 0, 0],\n",
    "\t\t\t[0, 0, 0, 0],\n",
    "\t\t\t[0, 0, 0, 0],\n",
    "\t\t\t[0, 0, 0, 0]\n",
    "\t\t\t]\n",
    "\tif solveNQUtil(board, 0) == False:\n",
    "\t\tprint (\"Solution does not exist\")\n",
    "\t\treturn False\n",
    "\tprintSolution(board)\n",
    "\treturn True\n",
    "# driver program to test above function\n",
    "solveNQ()"
   ]
  },
  {
   "cell_type": "markdown",
   "id": "cc0d63ca",
   "metadata": {},
   "source": [
    "# 8 - Queen Problem"
   ]
  },
  {
   "cell_type": "code",
   "execution_count": 3,
   "id": "a3ed6e14",
   "metadata": {},
   "outputs": [
    {
     "name": "stdout",
     "output_type": "stream",
     "text": [
      "1 0 0 0 0 0 0 0 \n",
      "0 0 0 0 0 0 1 0 \n",
      "0 0 0 0 1 0 0 0 \n",
      "0 0 0 0 0 0 0 1 \n",
      "0 1 0 0 0 0 0 0 \n",
      "0 0 0 1 0 0 0 0 \n",
      "0 0 0 0 0 1 0 0 \n",
      "0 0 1 0 0 0 0 0 \n"
     ]
    },
    {
     "data": {
      "text/plain": [
       "True"
      ]
     },
     "execution_count": 3,
     "metadata": {},
     "output_type": "execute_result"
    }
   ],
   "source": [
    "global N\n",
    "N =8\n",
    "def printSolution(board):\n",
    "\tfor i in range(N):\n",
    "\t\tfor j in range(N):\n",
    "\t\t\tprint (board[i][j],end=' ')\n",
    "\t\tprint()\n",
    "def isSafe(board, row, col):\n",
    "\t# Check this row on left side\n",
    "\tfor i in range(col):\n",
    "\t\tif board[row][i] == 1:\n",
    "\t\t\treturn False\n",
    "\t# Check upper diagonal on left side\n",
    "\tfor i, j in zip(range(row, -1, -1), range(col, -1, -1)):\n",
    "\t\tif board[i][j] == 1:\n",
    "\t\t\treturn False\n",
    "\t# Check lower diagonal on left side\n",
    "\tfor i, j in zip(range(row, N, 1), range(col, -1, -1)):\n",
    "\t\tif board[i][j] == 1:\n",
    "\t\t\treturn False\n",
    "\treturn True\n",
    "def solveNQUtil(board, col):\n",
    "\t# base case: If all queens are placed\n",
    "\t# then return true\n",
    "\tif col >= N:\n",
    "\t\treturn True\n",
    "\tfor i in range(N):\n",
    "\t\tif isSafe(board, i, col):\n",
    "\t\t\t# Place this queen in board[i][col]\n",
    "\t\t\tboard[i][col] = 1\n",
    "\t\t\t# recur to place rest of the queens\n",
    "\t\t\tif solveNQUtil(board, col + 1) == True:\n",
    "\t\t\t\treturn True\n",
    "\t\t\tboard[i][col] = 0\n",
    "\treturn False\n",
    "def solveNQ():\n",
    "\tboard = [ [0, 0, 0, 0, 0, 0, 0, 0],\n",
    "\t\t\t[0, 0, 0, 0, 0, 0, 0, 0],\n",
    "\t\t\t[0, 0, 0, 0, 0, 0, 0, 0],\n",
    "\t\t\t[0, 0, 0, 0, 0, 0, 0, 0],\n",
    "             [0, 0, 0, 0, 0, 0, 0, 0],\n",
    "             [0, 0, 0, 0, 0, 0, 0, 0],\n",
    "             [0, 0, 0, 0, 0, 0, 0, 0],\n",
    "             [0, 0, 0, 0, 0, 0, 0, 0]\n",
    "\t\t\t]\n",
    "\tif solveNQUtil(board, 0) == False:\n",
    "\t\tprint (\"Solution does not exist\")\n",
    "\t\treturn False\n",
    "\tprintSolution(board)\n",
    "\treturn True\n",
    "# driver program to test above function\n",
    "solveNQ()"
   ]
  },
  {
   "cell_type": "markdown",
   "id": "b998d8aa",
   "metadata": {},
   "source": [
    "# Longest Common Subsequences"
   ]
  },
  {
   "cell_type": "code",
   "execution_count": 5,
   "id": "cfed1681",
   "metadata": {},
   "outputs": [
    {
     "name": "stdout",
     "output_type": "stream",
     "text": [
      "Length of LCS is  4\n"
     ]
    }
   ],
   "source": [
    "def lcs(X, Y, m, n):\n",
    "    if m == 0 or n == 0:\n",
    "        return 0;\n",
    "    elif X[m-1] == Y[n-1]:\n",
    "        return 1 + lcs(X, Y, m-1, n-1);\n",
    "    else:\n",
    "        return max(lcs(X, Y, m, n-1), lcs(X, Y, m-1, n));\n",
    "X = \"AGGTAB\"\n",
    "Y = \"GXTXAYB\"\n",
    "print (\"Length of LCS is \", lcs(X, Y, len(X), len(Y)))\n"
   ]
  },
  {
   "cell_type": "code",
   "execution_count": null,
   "id": "4deae586",
   "metadata": {},
   "outputs": [],
   "source": []
  }
 ],
 "metadata": {
  "kernelspec": {
   "display_name": "Python 3 (ipykernel)",
   "language": "python",
   "name": "python3"
  },
  "language_info": {
   "codemirror_mode": {
    "name": "ipython",
    "version": 3
   },
   "file_extension": ".py",
   "mimetype": "text/x-python",
   "name": "python",
   "nbconvert_exporter": "python",
   "pygments_lexer": "ipython3",
   "version": "3.10.5"
  }
 },
 "nbformat": 4,
 "nbformat_minor": 5
}
